{
 "cells": [
  {
  "cell_type": "markdown",
  "metadata": {},
  "source": [
      "# Simple example\n",
      "Please find below a simple example of an inverted pendulum. The goal is, by using only \n",
      "side pushes, to bring the wand upward. \n",
      "\n",
      "The ocp to solve is as follow:\n",
      "- Movement of $1s$ separted into $50$ shooting points\n",
      "- States variables are the generalized position (q) and velocities (qdot)\n",
      "- Side translation is bounded to $\\pm10\\ m$, and rotation to $\\pm2\\pi\\ rad$. Velocities are bounded to $\\pm10\\ m/s$ and $\\pm31.4\\ rad/s$, respectively\n",
      "- Control variables are the generalized forces (tau) \n",
      "- Side translation force is bounded to $\\pm100\\ N$ and the rotation force is not allowed (bonded to $0\\ Nm$)\n",
      "- Cost functions: minimize the side pushes forces at all time\n",
      "- Initial guess is arbitrarily set to $0$ for all the variables"
    ]
  }
 ],
 "metadata": {
  "kernelspec": {
   "display_name": "Python 3",
   "language": "python",
   "name": "python3"
  },
  "language_info": {
   "codemirror_mode": {
    "name": "ipython",
    "version": 3
   },
   "file_extension": ".py",
   "mimetype": "text/x-python",
   "name": "python",
   "nbconvert_exporter": "python",
   "pygments_lexer": "ipython3",
   "version": "3.9.4"
  }
 },
 "nbformat": 4,
 "nbformat_minor": 5
}
