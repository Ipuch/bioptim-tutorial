{
 "cells": [
  {
  "cell_type": "markdown",
  "metadata": {},
  "source": [
    "# Simple example\n",
    "Please find below a simple example of an inverted pendulum. The goal is, by using only \n",
    "side pushes, to bring the wand upward. \n",
    "\n",
    "The ocp to solve is as follow:\n",
    "- Movement of $1s$ separted into $50$ shooting points\n",
    "- States variables are the generalized position (q) and velocities (qdot)\n",
    "- Side translation is bounded to $\\pm10\\ m$, and rotation to $\\pm2\\pi\\ rad$. Velocities are bounded to $\\pm10\\ m/s$ and $\\pm31.4\\ rad/s$, respectively\n",
    "- Control variables are the generalized forces (tau) \n",
    "- Side translation force is bounded to $\\pm100\\ N$ and the rotation force is not allowed (bonded to $0\\ Nm$)\n",
    "- Cost functions: minimize the side pushes forces at all time\n",
    "- Initial guess is arbitrarily set to $0$ for all the variables"
  ]
  },
  {
   "cell_type": "markdown",
   "metadata": {},
   "source": [
    "![SegmentLocal](img/slider.gif)"
   ]
  },
  {
   "cell_type": "code",
   "execution_count": null,
   "metadata": {},
   "outputs": [],
   "source": [
    "import numpy as np\n",
    "import biorbd_casadi as biorbd\n",
    "from bioptim import *"
   ]
  },
  {
   "cell_type": "code",
   "execution_count": null,
   "metadata": {},
   "outputs": [],
   "source": [
    "model = biorbd.Model(\"models/Slider1Leg.bioMod\"), biorbd.Model(\"models/Slider1Leg.bioMod\")\n",
    "nq = model[0].nbQ()\n",
    "ntau = model[0].nbGeneralizedTorque()\n",
    "\n",
    "# This is your turn\n",
    "n_shooting = 40, 40\n",
    "final_time = 0.2, 0.4\n",
    "tau_min, tau_max, tau_init = -200, 200, 0\n",
    "\n",
    "dynamics = DynamicsList()\n",
    "dynamics.add(DynamicsFcn.TORQUE_DRIVEN, with_contact=True)\n",
    "dynamics.add(DynamicsFcn.TORQUE_DRIVEN)\n",
    "\n",
    "objective_functions = ObjectiveList()\n",
    "objective_functions.add(ObjectiveFcn.Lagrange.MINIMIZE_CONTROL, key='tau', weight=0.1, phase=0)\n",
    "objective_functions.add(ObjectiveFcn.Lagrange.MINIMIZE_CONTROL, key='tau', weight=0.1, phase=1)\n",
    "\n",
    "x_bounds = BoundsList()\n",
    "x_bounds.add(bounds=QAndQDotBounds(model[0]))\n",
    "x_bounds.add(bounds=QAndQDotBounds(model[1]))\n",
    "\n",
    "x_bounds[0][:3, 0] = [0, 3*np.pi / 8, -3*np.pi / 4]\n",
    "x_bounds[0][3:, 0] = 0\n",
    "x_bounds[0].min[0, -1] = 0\n",
    "x_bounds[0].max[0, -1] = 0.25 \n",
    "\n",
    "x_bounds[1][0, -1] = 1\n",
    "x_bounds[1][3, -1] = 0\n",
    "\n",
    "u_bounds = BoundsList()\n",
    "u_bounds.add([tau_min] * nq,\n",
    "             [tau_max] * ntau)\n",
    "u_bounds.add([tau_min] * ntau,\n",
    "             [tau_max] * ntau)\n",
    "\n",
    "u_bounds[0][0, :] = 0\n",
    "u_bounds[1][0, :] = 0\n",
    "\n",
    "x_init = InitialGuessList()\n",
    "x_init.add([0, 3*np.pi / 8, -3*np.pi / 4] + [0] * nq)  \n",
    "x_init.add([0, 0, 0] + [0] * nq)  \n",
    "\n",
    "u_init = InitialGuessList()\n",
    "u_init.add([tau_init] * ntau)\n",
    "u_init.add([tau_init] * ntau)\n",
    "\n",
    "# Constraints\n",
    "constraints = ConstraintList()\n",
    "constraints.add(\n",
    "    ConstraintFcn.TRACK_CONTACT_FORCES,\n",
    "    min_bound=0,\n",
    "    max_bound=np.inf,\n",
    "    node=Node.ALL,\n",
    "    contact_index=0,  # z axis\n",
    ")\n",
    "\n",
    "ocp =  OptimalControlProgram(\n",
    "    model,\n",
    "    dynamics,\n",
    "    n_shooting,\n",
    "    final_time,\n",
    "    x_init,\n",
    "    u_init,\n",
    "    x_bounds,\n",
    "    u_bounds,\n",
    "    objective_functions=objective_functions,\n",
    "    constraints=constraints,\n",
    "    n_threads=8,\n",
    ")\n",
    "\n"
   ]
  },
  {
   "cell_type": "code",
   "execution_count": null,
   "metadata": {},
   "outputs": [],
   "source": [
    "sol = ocp.solve(show_online_optim=False)\n"
   ]
  },
  {
   "cell_type": "code",
   "execution_count": null,
   "metadata": {},
   "outputs": [],
   "source": [
    "sol.graphs(automatically_organize=False)"
   ]
  },
  {
   "cell_type": "code",
   "execution_count": null,
   "metadata": {},
   "outputs": [],
   "source": []
  }
 ],
 "metadata": {
  "kernelspec": {
   "display_name": "Python 3",
   "language": "python",
   "name": "python3"
  },
  "language_info": {
   "codemirror_mode": {
    "name": "ipython",
    "version": 3
   },
   "file_extension": ".py",
   "mimetype": "text/x-python",
   "name": "python",
   "nbconvert_exporter": "python",
   "pygments_lexer": "ipython3",
   "version": "3.9.4"
  }
 },
 "nbformat": 4,
 "nbformat_minor": 5
}
