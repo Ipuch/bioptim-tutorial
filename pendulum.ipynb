{
    "metadata": {
        "language_info": {
            "name": "python",
            "version": "3.9.6",
            "mimetype": "text/x-python",
            "codemirror_mode": {
                "name": "ipython",
                "version": 3
            },
            "pygments_lexer": "ipython3",
            "nbconvert_exporter": "python",
            "file_extension": ".py"
        },
        "kernelspec": {
            "name": "python3",
            "display_name": "Python 3 (ipykernel)",
            "language": "python"
        }
    },
    "nbformat_minor": 5,
    "nbformat": 4,
    "cells": [
        {
            "cell_type": "markdown",
            "source":
                "# Simple example\n"
                "Please find below a simple example of an inverted pendulum. The goal is, by using only \n"
                "side pushes, to bring the wand upward. \n"
                "\n"
                "The ocp to solve is as follow:\n"
                "- Movement of $1s$ separted into $50$ shooting points\n"
                "- States variables are the generalized position (q) and velocities (qdot)\n"
                "- Side translation is bounded to $\\pm10\\ m$, and rotation to $\\pm2\\pi\\ rad$. Velocities are bounded to $\\pm10\\ m/s$ and $\\pm31.4\\ rad/s$, respectively\n"
                "- Control variables are the generalized forces (tau) \n"
                "- Side translation force is bounded to $\\pm100\\ N$ and the rotation force is not allowed (bonded to $0\\ Nm$)\n"
                "- Cost functions: minimize the side pushes forces at all time\n"
                "- Initial guess is arbitrarily set to $0$ for all the variables",
            "metadata": {}
        },
        {
            "cell_type": "code",
            "source": "# So first, let's import all the required classes \n"
                      "import biorbd_casadi as biorbd\n"
                      "from bioptim import *",
            "metadata": {
                "trusted": true
            },
            "execution_count": 6,
            "outputs": []
        },
        {
            "cell_type": "code",
            "source":
                "# Now let's define the actual ocp\n"
                "\n"
                "# Let's load a model and define some aliases\n"
                "model_path = \"models/pendulum.bioMod\"\n"
                "model = biorbd.Model(model_path)\n"
                "nq = model.nbQ()  # Number of degrees of freedom in the model\n"
                "\n"
                "# Define the time of movement and number of shooting point\n"
                "final_time = 3\n"
                "n_shoot = 50\n"
                "\n"
                "# Select the torque driven Dynamics\n"
                "dynamics = Dynamics(DynamicsFcn.TORQUE_DRIVEN)\n"
                "\n"
                "# Define the path constraints of the states (x) and controls (u)\n"
                "x_bounds = QAndQDotBounds(model)  # Use the state bounds defined in the bioMod file\n"
                "x_bounds[:, [0, -1]] = 0  # Make sure initial position and rotation and velocities (:) are null at the beginning (0) and the end (-1)\n"
                "x_bounds[1, -1] = 3.14  # Except for the final (-1) rotation (1)\n"
                "\n"
                "u_bounds = Bounds([-100] * nq, [100] * nq)  # Define all the control bounds to be plus or minus 100\n"
                "u_bounds[1, :] = 0  # Except for the rotation motor which is deactivated\n"
                "\n"
                "# Define the objective functions\n"
                "objective_functions = Objective(ObjectiveFcn.Lagrange.MINIMIZE_CONTROL, key=\"tau\")  # Minimize the generalized forces\n"
                "\n"
                "# Define the initial guesses for states (x) and controls (u)\n"
                "x_init = InitialGuess([0] * nq * 2)  # Set initial guesses for generalized coordinates and velocities to 0\n"
                "u_init = InitialGuess([0] * nq)  # Set initial guesses for generalized forces 0\n"
                "\n"
                "# Send all this to the ocp structure\n"
                "ocp = OptimalControlProgram(\n"
                "    model, \n"
                "    dynamics, \n"
                "    n_shoot, \n"
                "    final_time, \n"
                "    x_init=x_init, \n"
                "    u_init=u_init, \n"
                "    x_bounds=x_bounds,\n"
                "    u_bounds=u_bounds,\n"
                "    objective_functions=objective_functions,\n"
                ")",
            "metadata": {
                "trusted": true
            },
            "execution_count": 7,
            "outputs": []
        },
        {
            "cell_type": "code",
            "source":
                "# Let's solve the ocp!\n"
                "sol = ocp.solve()",
            "metadata": {},
            "execution_count": null,
            "outputs": []
        },
        {
            "cell_type": "code",
            "source":
                "# Now let's print some results to the console and plot some graphs\n"
                "sol.print()\n"
                "sol.graphs(automatically_organize=False)",
            "metadata": {},
            "execution_count": null,
            "outputs": []
        }
    ]
}
