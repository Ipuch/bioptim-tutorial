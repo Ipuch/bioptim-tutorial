{
 "cells": [
  {
   "cell_type": "markdown",
   "id": "fee3bc43",
   "metadata": {},
   "source": [
    "<h1><center>Bioptim Workshop</center></h1>\n",
    "\n",
    "# Let's start with a simple example\n",
    "Please find below a simple example of an inverted pendulum. The goal is, by using only \n",
    "side pushes, to bring the wand upward. \n",
    "\n",
    "The ocp to solve is as follow:\n",
    "- Movement of $1s$ separted into $50$ shooting points\n",
    "- States variables are the generalized position (q) and velocities (qdot)\n",
    "- Side translation is bounded to $\\pm10\\ m$, and rotation to $\\pm2\\pi\\ rad$. Velocities are bounded to $\\pm10\\ m/s$ and $\\pm31.4\\ rad/s$, respectively\n",
    "- Control variables are the generalized forces (tau) \n",
    "- Side translation force is bounded to $\\pm100\\ N$ and the rotation force is not allowed (bonded to $0\\ Nm$)\n",
    "- Cost functions: minimize the side pushes forces at all time\n",
    "- Initial guess is arbitrarily set to $0$ for all the variables"
   ]
  },
  {
   "cell_type": "code",
   "execution_count": null,
   "id": "d00e9611",
   "metadata": {},
   "outputs": [],
   "source": [
    "# So first, let's import all the required classes \n",
    "from bioptim import *"
   ]
  },
  {
   "cell_type": "code",
   "execution_count": null,
   "id": "90dcf841",
   "metadata": {},
   "outputs": [],
   "source": [
    "# Now let's define the actual ocp\n",
    "\n",
    "# Let's load a model and define some aliases\n",
    "model_path = \"models/pendulum.bioMod\"\n",
    "model = BiorbdModel(model_path)\n",
    "nq = model.nb_q  # Number of degrees of freedom in the model\n",
    "\n",
    "# Define the time of movement and number of shooting point\n",
    "final_time = 1\n",
    "n_shoot = 100\n",
    "\n",
    "# Select the torque driven Dynamics\n",
    "dynamics = Dynamics(DynamicsFcn.TORQUE_DRIVEN)\n",
    "\n",
    "# Define the path constraints of the states (x) and controls (u)\n",
    "x_bounds = model.bounds_from_ranges([\"q\", \"qdot\"])  # Use the state bounds defined in the bioMod file\n",
    "x_bounds[:, [0, -1]] = 0  # Make sure initial position and rotation and velocities (:) are null at the beginning (0) and the end (-1)\n",
    "x_bounds[1, -1] = 3.14  # Except for the final (-1) rotation (1)\n",
    "\n",
    "u_bounds = Bounds([-100] * nq, [100] * nq)  # Define all the control bounds to be plus or minus 100\n",
    "u_bounds[1, :] = 0  # Except for the rotation motor which is deactivated\n",
    "\n",
    "# Define the objective functions\n",
    "objective_functions = Objective(ObjectiveFcn.Lagrange.MINIMIZE_CONTROL, key='tau')  # Minimize the generalized forces\n",
    "\n",
    "# Define the initial guesses for states (x) and controls (u)\n",
    "x_init = InitialGuess([0] * nq * 2)  # Set initial guesses for generalized coordinates and velocities to 0\n",
    "u_init = InitialGuess([0] * nq)  # Set initial guesses for generalized forces 0\n",
    "\n",
    "# Send all this to the ocp structure\n",
    "ocp = OptimalControlProgram(\n",
    "    model, \n",
    "    dynamics, \n",
    "    n_shoot, \n",
    "    final_time, \n",
    "    x_init=x_init, \n",
    "    u_init=u_init, \n",
    "    x_bounds=x_bounds,\n",
    "    u_bounds=u_bounds,\n",
    "    objective_functions=objective_functions,\n",
    ")\n",
    "\n",
    "# Have a look on the problem\n",
    "ocp.print(to_console=True,to_graph=False)"
   ]
  },
  {
   "cell_type": "code",
   "execution_count": null,
   "id": "7149d6ab",
   "metadata": {},
   "outputs": [],
   "source": [
    "# Let's solve the ocp!\n",
    "sol = ocp.solve()"
   ]
  },
  {
   "cell_type": "code",
   "execution_count": null,
   "id": "78f23039",
   "metadata": {
    "scrolled": false
   },
   "outputs": [],
   "source": [
    "# Now let's print some results to the console and plot some graphs\n",
    "sol.print_cost()\n",
    "sol.graphs(automatically_organize=False)"
   ]
  },
  {
   "cell_type": "code",
   "execution_count": null,
   "id": "9dbc7e26-66ca-4c0f-8e5f-2c445e9af72c",
   "metadata": {},
   "outputs": [],
   "source": [
    "# This cell for visualizing the animation won't work in a jupyter notebook, but would work locally\n",
    "# viz = sol.animate(show_now=True)"
   ]
  }
 ],
 "metadata": {
  "kernelspec": {
   "display_name": "Python 3 (ipykernel)",
   "language": "python",
   "name": "python3"
  },
  "language_info": {
   "codemirror_mode": {
    "name": "ipython",
    "version": 3
   },
   "file_extension": ".py",
   "mimetype": "text/x-python",
   "name": "python",
   "nbconvert_exporter": "python",
   "pygments_lexer": "ipython3",
   "version": "3.11.0"
  }
 },
 "nbformat": 4,
 "nbformat_minor": 5
}
