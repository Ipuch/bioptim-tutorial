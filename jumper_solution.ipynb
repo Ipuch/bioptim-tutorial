{
 "cells": [
  {
   "cell_type": "markdown",
   "id": "3883fc7f",
   "metadata": {},
   "source": [
    "# Let's practice !\n",
    "In this exercice, you will implement a vertical 2D jumper that must reach a height of 1 meter with one torque-actuated leg made of two segments.\n",
    "The vertical degree of freedom actuation must be forced to zero, to mimic free flying conditions.\n",
    "The lower segment of the leg must be constrained with a contact point in the first phase which will then be released in the second phase.\n",
    "The main objective is to minimize torques during each phase.\n",
    "The first phase will last for 0.2s with 40 nodes and the second will last for 0.4s with 40 nodes.\n",
    "\n",
    "The motion will look like this :"
   ]
  },
  {
   "cell_type": "markdown",
   "id": "46d3659d",
   "metadata": {},
   "source": [
    "![SegmentLocal](img/slider.gif)"
   ]
  },
  {
   "cell_type": "code",
   "execution_count": null,
   "id": "50899c33",
   "metadata": {},
   "outputs": [],
   "source": [
    "import biorbd\n",
    "from bioptim import *"
   ]
  },
  {
   "cell_type": "code",
   "execution_count": null,
   "id": "d2422265",
   "metadata": {},
   "outputs": [],
   "source": [
    "model = biorbd.Model(\"models/Slider1Leg.bioMod\"), biorbd.Model(\"models/Slider1Leg.bioMod\")\n",
    "nq = model[0].nbQ()\n",
    "ntau = model[0].nbGeneralizedTorque()\n",
    "\n",
    "# This is your turn\n",
    "n_shooting = 40, 40\n",
    "final_time = 0.2, 0.4\n",
    "tau_min, tau_max, tau_init = -200, 200, 0\n",
    "\n",
    "dynamics = DynamicsList()\n",
    "dynamics.add(DynamicsFcn.TORQUE_DRIVEN_WITH_CONTACT)\n",
    "dynamics.add(DynamicsFcn.TORQUE_DRIVEN)\n",
    "\n",
    "objective_functions = ObjectiveList()\n",
    "objective_functions.add(ObjectiveFcn.Lagrange.MINIMIZE_TORQUE, weight=0.1, phase=0)\n",
    "objective_functions.add(ObjectiveFcn.Lagrange.MINIMIZE_TORQUE, weight=0.1, phase=1)\n",
    "\n",
    "x_bounds = BoundsList()\n",
    "x_bounds.add(bounds=QAndQDotBounds(model[0]))\n",
    "x_bounds.add(bounds=QAndQDotBounds(model[1]))\n",
    "\n",
    "x_bounds[0][:3, 0] = [0, 3*np.pi / 8, -3*np.pi / 4]\n",
    "x_bounds[0][3:, 0] = 0\n",
    "x_bounds[0].min[0, -1] = 0\n",
    "x_bounds[0].max[0, -1] = 0.25 \n",
    "\n",
    "x_bounds[1][0, -1] = 1\n",
    "x_bounds[1][3, -1] = 0\n",
    "\n",
    "u_bounds = BoundsList()\n",
    "u_bounds.add([tau_min] * nq,\n",
    "             [tau_max] * ntau)\n",
    "u_bounds.add([tau_min] * ntau,\n",
    "             [tau_max] * ntau)\n",
    "\n",
    "u_bounds[0][0, :] = 0\n",
    "u_bounds[1][0, :] = 0\n",
    "\n",
    "x_init = InitialGuessList()\n",
    "x_init.add([0, 3*np.pi / 8, -3*np.pi / 4] + [0] * nq)  \n",
    "x_init.add([0, 0, 0] + [0] * nq)  \n",
    "\n",
    "u_init = InitialGuessList()\n",
    "u_init.add([tau_init] * ntau)\n",
    "u_init.add([tau_init] * ntau)\n",
    "\n",
    "# Constraints\n",
    "constraints = ConstraintList()\n",
    "constraints.add(\n",
    "    ConstraintFcn.CONTACT_FORCE,\n",
    "    min_bound=0,\n",
    "    max_bound=np.inf,\n",
    "    node=Node.ALL,\n",
    "    contact_force_idx=0,  # z axis\n",
    ")\n",
    "\n",
    "ocp =  OptimalControlProgram(\n",
    "    model,\n",
    "    dynamics,\n",
    "    n_shooting,\n",
    "    final_time,\n",
    "    x_init,\n",
    "    u_init,\n",
    "    x_bounds,\n",
    "    u_bounds,\n",
    "    objective_functions=objective_functions,\n",
    "    constraints=constraints,\n",
    "    n_threads=8,\n",
    ")\n",
    "\n"
   ]
  },
  {
   "cell_type": "code",
   "execution_count": null,
   "id": "f7d9bbb2",
   "metadata": {},
   "outputs": [],
   "source": [
    "sol = ocp.solve(show_online_optim=False)\n"
   ]
  },
  {
   "cell_type": "code",
   "execution_count": null,
   "id": "b190944a",
   "metadata": {},
   "outputs": [],
   "source": [
    "sol.graphs(automatically_organize=False)"
   ]
  },
  {
   "cell_type": "code",
   "execution_count": null,
   "id": "ceb940b6",
   "metadata": {},
   "outputs": [],
   "source": []
  }
 ],
 "metadata": {
  "kernelspec": {
   "display_name": "Python 3",
   "language": "python",
   "name": "python3"
  },
  "language_info": {
   "codemirror_mode": {
    "name": "ipython",
    "version": 3
   },
   "file_extension": ".py",
   "mimetype": "text/x-python",
   "name": "python",
   "nbconvert_exporter": "python",
   "pygments_lexer": "ipython3",
   "version": "3.9.4"
  }
 },
 "nbformat": 4,
 "nbformat_minor": 5
}
