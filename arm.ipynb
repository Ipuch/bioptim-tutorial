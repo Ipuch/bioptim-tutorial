{
 "cells": [
  {
   "cell_type": "markdown",
   "id": "233dd361",
   "metadata": {},
   "source": [
    "# Let's do some biomechanics !!\n",
    "\n",
    "Now, we are working with a arm model, actuated by muscles and pure joint torques (to compensate for model weakness). \n",
    "The goal is, starting from an initial position, to perform a reaching  task with this arm, by superimposing two markers. \n",
    "The first one (the target, 0th marker of the model), is fixed in the scene.\n",
    "The second one (5th marker of the model) is fixed on the arm, in the *ulna* coordinate system.\n",
    "\n",
    "The ocp to solve is as follow:\n",
    "- Movement of $3s$ divided into $50$ shooting points\n",
    "- The state variables are the generalized position (q) and velocities (qdot)\n",
    "- The control variables are the muscle activations (a) \n",
    "- Cost functions: minimize the control effort at all time and minimize the Euclidean distance between the two markers at the final node\n",
    "- Initial guess is arbitrarily set to $0.5$ for muscle activations and to $0$ for all other variables"
   ]
  },
  {
   "cell_type": "code",
   "execution_count": null,
   "id": "21442a02",
   "metadata": {},
   "outputs": [],
   "source": [
    "# So first, let's import all the required classes \n",
    "import biorbd\n",
    "from bioptim import *"
   ]
  },
  {
   "cell_type": "code",
   "execution_count": 2,
   "id": "6202f513",
   "metadata": {},
   "outputs": [],
   "source": [
    "# Let's define the OCP\n",
    "final_time= 3\n",
    "n_shooting = 50\n",
    "\n",
    "# Load the model and define some aliases\n",
    "model = biorbd.Model(\"models/arm26.bioMod\")\n",
    "nq = model.nbQ()\n",
    "ndq = model.nbQdot()\n",
    "ntau = model.nbGeneralizedTorque()\n",
    "nmus = model.nbMuscleTotal()\n",
    "\n",
    "# Add objective functions\n",
    "objective_functions = ObjectiveList()\n",
    "objective_functions.add(ObjectiveFcn.Lagrange.MINIMIZE_TORQUE)\n",
    "objective_functions.add(ObjectiveFcn.Lagrange.MINIMIZE_MUSCLES_CONTROL)\n",
    "objective_functions.add(\n",
    "    ObjectiveFcn.Mayer.SUPERIMPOSE_MARKERS, first_marker_idx=5, second_marker_idx=0, weight=1000\n",
    ")\n",
    "\n",
    "# Dynamics\n",
    "dynamics = DynamicsList()\n",
    "dynamics.add(DynamicsFcn.MUSCLE_ACTIVATIONS_AND_TORQUE_DRIVEN)\n",
    "\n",
    "# Path constraint\n",
    "x_bounds = BoundsList()\n",
    "x_bounds.add(bounds=QAndQDotBounds(model))\n",
    "x_bounds[0][:, 0] = (0.07, 1.4, 0, 0)\n",
    "\n",
    "# Initial guess\n",
    "x_init = InitialGuessList()\n",
    "x_init.add([1.57] * nq + [0] * ndq)\n",
    "\n",
    "# Define control path constraint\n",
    "muscle_min, muscle_max, muscle_init = 0, 1, 0.5\n",
    "tau_min, tau_max, tau_init = -1, 1, 0\n",
    "u_bounds = BoundsList()\n",
    "u_bounds.add(\n",
    "    [tau_min] * ntau + [muscle_min] * nmus,\n",
    "    [tau_max] * ntau + [muscle_max] * nmus,\n",
    ")\n",
    "\n",
    "u_init = InitialGuessList()\n",
    "u_init.add([tau_init] * ntau + [muscle_init] * nmus)\n",
    "# ------------- #\n",
    "\n",
    "ocp = OptimalControlProgram(\n",
    "    model,\n",
    "    dynamics,\n",
    "    n_shooting,\n",
    "    final_time,\n",
    "    x_init,\n",
    "    u_init,\n",
    "    x_bounds,\n",
    "    u_bounds,\n",
    "    objective_functions,\n",
    "    n_threads = 8,\n",
    ")\n"
   ]
  },
  {
   "cell_type": "code",
   "execution_count": 3,
   "id": "d8a4a5a2",
   "metadata": {},
   "outputs": [
    {
     "name": "stdout",
     "output_type": "stream",
     "text": [
      "\n",
      "******************************************************************************\n",
      "This program contains Ipopt, a library for large-scale nonlinear optimization.\n",
      " Ipopt is released as open source code under the Eclipse Public License (EPL).\n",
      "         For more information visit https://github.com/coin-or/Ipopt\n",
      "******************************************************************************\n",
      "\n",
      "This is Ipopt version 3.13.4, running with linear solver mumps.\n",
      "NOTE: Other linear solvers might be more efficient (see Ipopt documentation).\n",
      "\n",
      "Number of nonzeros in equality constraint Jacobian...:     2584\n",
      "Number of nonzeros in inequality constraint Jacobian.:        0\n",
      "Number of nonzeros in Lagrangian Hessian.............:     3861\n",
      "\n",
      "Total number of variables............................:      600\n",
      "                     variables with only lower bounds:        0\n",
      "                variables with lower and upper bounds:      600\n",
      "                     variables with only upper bounds:        0\n",
      "Total number of equality constraints.................:      200\n",
      "Total number of inequality constraints...............:        0\n",
      "        inequality constraints with only lower bounds:        0\n",
      "   inequality constraints with lower and upper bounds:        0\n",
      "        inequality constraints with only upper bounds:        0\n",
      "\n",
      "iter    objective    inf_pr   inf_du lg(mu)  ||d||  lg(rg) alpha_du alpha_pr  ls\n",
      "   0  2.1441806e+01 1.51e+00 1.86e+00  -1.0 0.00e+00    -  0.00e+00 0.00e+00   0\n",
      "   1  1.8008895e+01 1.27e+00 3.22e+00  -1.0 7.97e+00    -  1.41e-01 1.59e-01f  1\n",
      "   2  1.4626714e+01 1.06e+00 3.77e+00  -1.0 4.10e+00    -  3.66e-01 1.69e-01f  1\n",
      "   3  9.8246916e+00 7.30e-01 2.62e+00  -1.0 2.71e+00    -  4.34e-01 3.09e-01h  1\n",
      "   4  9.1621507e+00 5.40e-01 1.75e+00  -1.0 7.44e+00    -  4.41e-01 2.61e-01h  1\n",
      "   5  9.5068548e+00 4.28e-01 1.47e+00  -1.0 3.69e+00    -  1.37e-01 2.07e-01h  1\n",
      "   6  9.7193190e+00 3.94e-01 1.37e+00  -1.0 1.15e+01    -  2.62e-02 7.78e-02h  1\n",
      "   7  1.0468834e+01 3.61e-01 1.26e+00  -1.0 4.22e+00    -  9.62e-02 8.40e-02h  1\n",
      "   8  1.1201142e+01 3.30e-01 1.14e+00  -1.0 5.34e+00    -  1.39e-01 8.80e-02h  1\n",
      "   9  1.2524705e+01 2.96e-01 1.01e+00  -1.0 3.50e+00    -  1.29e-01 1.03e-01h  1\n",
      "iter    objective    inf_pr   inf_du lg(mu)  ||d||  lg(rg) alpha_du alpha_pr  ls\n",
      "  10  1.3406531e+01 2.73e-01 1.14e+00  -1.0 5.12e+00    -  3.72e-02 7.48e-02h  1\n",
      "  11  1.5136509e+01 2.38e-01 1.54e+00  -1.0 3.94e+00   0.0 6.98e-02 1.30e-01h  1\n",
      "  12  1.2798365e+01 2.37e-01 1.55e+00  -1.0 1.39e+02    -  3.38e-03 4.05e-03f  1\n",
      "  13  1.2480662e+01 2.27e-01 1.45e+00  -1.0 1.00e+01    -  4.49e-02 4.06e-02f  1\n",
      "  14  1.2362730e+01 2.16e-01 1.32e+00  -1.0 9.67e+00    -  5.82e-02 4.81e-02f  1\n",
      "  15  1.2287923e+01 2.06e-01 1.15e+00  -1.0 1.16e+01    -  6.82e-02 4.95e-02f  1\n",
      "  16  1.2203456e+01 1.96e-01 9.63e-01  -1.0 1.41e+01    -  6.99e-02 4.79e-02f  1\n",
      "  17  1.2109978e+01 1.87e-01 8.33e-01  -1.0 1.69e+01    -  6.41e-02 4.37e-02f  1\n",
      "  18  1.2016391e+01 1.80e-01 7.10e-01  -1.0 2.11e+01    -  5.28e-02 3.67e-02f  1\n",
      "  19  1.1933334e+01 1.75e-01 6.34e-01  -1.0 2.94e+01    -  3.85e-02 2.70e-02f  1\n",
      "iter    objective    inf_pr   inf_du lg(mu)  ||d||  lg(rg) alpha_du alpha_pr  ls\n",
      "  20  1.1874229e+01 1.73e-01 6.37e-01  -1.0 5.33e+01    -  7.71e-03 1.52e-02f  1\n",
      "  21  1.4026380e+01 1.18e-01 1.04e+00  -1.0 1.57e+00    -  1.27e-01 3.16e-01h  1\n",
      "  22  1.4093538e+01 1.15e-01 9.16e-01  -1.0 1.16e+01    -  6.60e-02 2.86e-02h  1\n",
      "  23  1.5181657e+01 9.79e-02 5.79e-01  -1.0 4.89e+00  -0.5 2.00e-01 1.48e-01h  1\n",
      "  24  1.5448194e+01 9.47e-02 8.43e-01  -1.0 2.42e+01  -1.0 5.82e-02 3.21e-02h  1\n",
      "  25  1.7393264e+01 7.34e-02 1.04e+00  -1.0 3.73e+00  -0.5 5.79e-01 2.25e-01h  1\n",
      "  26  1.8221909e+01 6.94e-02 1.55e+00  -1.0 1.61e+01  -1.0 1.69e-01 5.37e-02h  1\n",
      "  27  1.9443531e+01 6.65e-02 1.24e+00  -1.0 2.15e+01  -1.5 8.36e-03 4.21e-02h  1\n",
      "  28  2.4319036e+01 3.07e-02 8.00e-01  -1.0 7.57e-01    -  4.42e-01 1.00e+00h  1\n",
      "  29  2.0500825e+01 1.67e-02 6.63e-01  -1.7 3.87e-01  -0.2 1.00e+00 5.98e-01f  1\n",
      "iter    objective    inf_pr   inf_du lg(mu)  ||d||  lg(rg) alpha_du alpha_pr  ls\n",
      "  30  1.5225265e+01 2.78e-02 6.42e-01  -1.7 6.23e-01    -  9.57e-01 9.65e-01f  1\n",
      "  31  1.5131855e+01 7.83e-04 3.12e-02  -1.7 1.33e-01  -0.6 1.00e+00 1.00e+00f  1\n",
      "  32  1.2995377e+01 7.27e-03 4.18e-01  -2.5 2.08e-01    -  5.32e-01 9.76e-01f  1\n",
      "  33  1.2789317e+01 1.60e-02 2.10e-01  -2.5 1.81e+00  -1.1 5.02e-01 3.29e-01f  1\n",
      "  34  1.2272808e+01 4.36e-04 1.76e-02  -2.5 1.25e-01    -  1.00e+00 1.00e+00f  1\n",
      "  35  1.1783433e+01 7.53e-04 2.75e-02  -3.8 1.18e-01    -  8.65e-01 8.59e-01f  1\n",
      "  36  1.1628830e+01 2.65e-04 3.41e-03  -3.8 4.55e-02    -  1.00e+00 1.00e+00f  1\n",
      "  37  1.1616875e+01 1.65e-04 2.81e-04  -3.8 1.81e-02    -  1.00e+00 1.00e+00h  1\n",
      "  38  1.1582096e+01 2.10e-05 2.94e-04  -5.7 1.91e-02    -  9.92e-01 1.00e+00f  1\n",
      "  39  1.1580995e+01 8.80e-07 4.45e-06  -5.7 1.07e-02    -  1.00e+00 1.00e+00h  1\n",
      "iter    objective    inf_pr   inf_du lg(mu)  ||d||  lg(rg) alpha_du alpha_pr  ls\n",
      "  40  1.1580502e+01 2.25e-07 5.79e-07  -7.0 5.52e-03    -  1.00e+00 1.00e+00h  1\n",
      "  41  1.1580489e+01 4.66e-08 1.10e-07  -7.0 2.45e-03    -  1.00e+00 1.00e+00h  1\n",
      "\n",
      "Number of Iterations....: 41\n",
      "\n",
      "                                   (scaled)                 (unscaled)\n",
      "Objective...............:   1.1580488864339724e+01    1.1580488864339724e+01\n",
      "Dual infeasibility......:   1.0984082692644812e-07    1.0984082692644812e-07\n",
      "Constraint violation....:   4.6581897561459584e-08    4.6581897561459584e-08\n",
      "Complementarity.........:   8.0440051751710594e-07    8.0440051751710594e-07\n",
      "Overall NLP error.......:   8.0440051751710594e-07    8.0440051751710594e-07\n",
      "\n",
      "\n",
      "Number of objective function evaluations             = 42\n",
      "Number of objective gradient evaluations             = 42\n",
      "Number of equality constraint evaluations            = 42\n",
      "Number of inequality constraint evaluations          = 0\n",
      "Number of equality constraint Jacobian evaluations   = 42\n",
      "Number of inequality constraint Jacobian evaluations = 0\n",
      "Number of Lagrangian Hessian evaluations             = 41\n",
      "Total CPU secs in IPOPT (w/o function evaluations)   =      1.543\n",
      "Total CPU secs in NLP function evaluations           =    205.125\n",
      "\n",
      "EXIT: Optimal Solution Found.\n",
      "      nlpsol  :   t_proc      (avg)   t_wall      (avg)    n_eval\n",
      "       nlp_f  |   3.71ms ( 88.24us)   3.72ms ( 88.68us)        42\n",
      "       nlp_g  |   2.23 s ( 53.00ms) 390.46ms (  9.30ms)        42\n",
      "  nlp_grad_f  |   5.83ms (135.53us)   5.90ms (137.19us)        43\n",
      "  nlp_hess_l  | 154.85 s (  3.78 s)  23.05 s (562.26ms)        41\n",
      "   nlp_jac_g  |  50.03 s (  1.16 s)   7.69 s (178.92ms)        43\n",
      "       total  | 207.38 s (207.38 s)  31.41 s ( 31.41 s)         1\n"
     ]
    }
   ],
   "source": [
    "sol = ocp.solve()"
   ]
  },
  {
   "cell_type": "code",
   "execution_count": null,
   "id": "31bb7c9d",
   "metadata": {},
   "outputs": [],
   "source": [
    "sol.graphs(automatically_organize=False)"
   ]
  },
  {
   "cell_type": "code",
   "execution_count": null,
   "id": "aeeae93c",
   "metadata": {},
   "outputs": [],
   "source": [
    "sol.animate()"
   ]
  },
  {
   "cell_type": "code",
   "execution_count": 21,
   "id": "1f056da2",
   "metadata": {},
   "outputs": [
    {
     "name": "stdout",
     "output_type": "stream",
     "text": [
      "Solving time: 31.410675525665283 sec\n",
      "Elapsed time: 31.410675525665283 sec\n",
      "\n",
      "---- COST FUNCTION VALUES ----\n",
      "PHASE 0\n",
      "MINIMIZE_TORQUE: 21.4484514743373 (weighted 1.28691)\n",
      "MINIMIZE_MUSCLES_CONTROL: 108.91822024087644 (weighted 6.53509)\n",
      "SUPERIMPOSE_MARKERS: 0.0037584885614269014 (weighted 3.75849)\n",
      "\n",
      "Sum cost functions: 11.5805\n",
      "------------------------------\n",
      "\n",
      "--------- CONSTRAINTS ---------\n",
      "CONTINUITY 0: -5.7792248406990376e-08\n",
      "\n",
      "PHASE 0\n",
      "\n",
      "------------------------------\n"
     ]
    }
   ],
   "source": [
    "sol.print()"
   ]
  },
  {
   "cell_type": "code",
   "execution_count": 22,
   "id": "056cdc40",
   "metadata": {},
   "outputs": [
    {
     "data": {
      "text/plain": [
       "0.05477225575051661"
      ]
     },
     "execution_count": 22,
     "metadata": {},
     "output_type": "execute_result"
    }
   ],
   "source": [
    "np.sqrt(0.003)"
   ]
  },
  {
   "cell_type": "code",
   "execution_count": null,
   "id": "e4c8a8ba",
   "metadata": {},
   "outputs": [],
   "source": []
  }
 ],
 "metadata": {
  "kernelspec": {
   "display_name": "Python 3",
   "language": "python",
   "name": "python3"
  },
  "language_info": {
   "codemirror_mode": {
    "name": "ipython",
    "version": 3
   },
   "file_extension": ".py",
   "mimetype": "text/x-python",
   "name": "python",
   "nbconvert_exporter": "python",
   "pygments_lexer": "ipython3",
   "version": "3.9.4"
  }
 },
 "nbformat": 4,
 "nbformat_minor": 5
}
