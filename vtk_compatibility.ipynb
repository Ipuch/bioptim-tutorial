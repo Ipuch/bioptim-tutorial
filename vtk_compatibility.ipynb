{
 "cells": [
  {
   "cell_type": "code",
   "execution_count": null,
   "id": "9f17225c",
   "metadata": {},
   "outputs": [],
   "source": [
    "import biorbd_casadi as biorbd\n",
    "from bioptim import *\n",
    "# from ipyvtklink import ViewInteractiveWidget\n",
    "\n",
    "\n",
    "model_path = \"models/pendulum.bioMod\"\n",
    "model = BiorbdModel(model_path)\n",
    "nq = model.nb_q \n",
    "\n",
    "final_time = 1\n",
    "n_shoot = 30\n",
    "\n",
    "dynamics = Dynamics(DynamicsFcn.TORQUE_DRIVEN)\n",
    "\n",
    "x_bounds = model.bounds_from_ranges([\"q\", \"qdot\"])  # Use the state bounds defined in the bioMod file\n",
    "x_bounds[:, [0, -1]] = 0  # Make sure initial position and rotation and velocities (:) are null at the beginning (0) and the end (-1)\n",
    "x_bounds[1, -1] = 3.14  # Except for the final (-1) rotation (1)\n",
    "\n",
    "u_bounds = Bounds([-100] * nq, [100] * nq)  # Define all the control bounds to be plus or minus 100\n",
    "u_bounds[1, :] = 0  # Except for the rotation motor which is deactivated\n",
    "\n",
    "objective_functions = Objective(ObjectiveFcn.Lagrange.MINIMIZE_CONTROL, key='tau')  # Minimize the generalized forces\n",
    "\n",
    "x_init = InitialGuess([0] * nq * 2)  # Set initial guesses for generalized coordinates and velocities to 0\n",
    "u_init = InitialGuess([0] * nq)  # Set initial guesses for generalized forces 0\n",
    "\n",
    "ocp = OptimalControlProgram(\n",
    "    model, \n",
    "    dynamics, \n",
    "    n_shoot, \n",
    "    final_time, \n",
    "    x_init=x_init, \n",
    "    u_init=u_init, \n",
    "    x_bounds=x_bounds,\n",
    "    u_bounds=u_bounds,\n",
    "    objective_functions=objective_functions,\n",
    ")\n",
    "\n",
    "\n",
    "solver = Solver.IPOPT(show_online_optim=False, show_options=dict(print_level=-1))\n",
    "sol = ocp.solve(solver)\n",
    "viz = sol.animate(show_now=False)\n",
    "ViewInteractiveWidget(viz[0].vtk_window.avatar_widget.GetRenderWindow())"
   ]
  },
  {
   "cell_type": "code",
   "execution_count": null,
   "id": "349b2964",
   "metadata": {},
   "outputs": [],
   "source": []
  }
 ],
 "metadata": {
  "kernelspec": {
   "display_name": "Python 3 (ipykernel)",
   "language": "python",
   "name": "python3"
  },
  "language_info": {
   "codemirror_mode": {
    "name": "ipython",
    "version": 3
   },
   "file_extension": ".py",
   "mimetype": "text/x-python",
   "name": "python",
   "nbconvert_exporter": "python",
   "pygments_lexer": "ipython3",
   "version": "3.11.0"
  }
 },
 "nbformat": 4,
 "nbformat_minor": 5
}
