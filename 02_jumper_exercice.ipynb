{
 "cells": [
  {
   "cell_type": "markdown",
   "id": "3883fc7f",
   "metadata": {},
   "source": [
    "<h1><center>Bioptim Workshop</center></h1>\n",
    "\n",
    "# Let's go for a multiphase problem !\n",
    "In this exercice, you will implement a vertical 2D jumper that must reach a height of 1 meter with one torque-actuated leg made of two segments.\n",
    "The vertical degree of freedom actuation must be forced to zero, to mimic free flying conditions.\n",
    "The lower segment of the leg must be constrained with a contact point in the first phase which will then be released in the second phase.\n",
    "The main objective is to minimize torques during each phase.\n",
    "The first phase will last for 0.2s with 40 nodes and the second will last for 0.4s with 40 nodes.\n",
    "\n",
    "The motion will look like this :"
   ]
  },
  {
   "cell_type": "markdown",
   "id": "46d3659d",
   "metadata": {},
   "source": [
    "![SegmentLocal](img/slider.gif)"
   ]
  },
  {
   "cell_type": "code",
   "execution_count": null,
   "id": "50899c33",
   "metadata": {},
   "outputs": [],
   "source": [
    "from bioptim import *"
   ]
  },
  {
   "cell_type": "markdown",
   "id": "94f4b77f",
   "metadata": {},
   "source": [
    "First, inspect the model (\"models/Slider1Leg.bioMod\") to understand how the contact point is implemented. We will use it during the first phase, to push on the ground before takeoff !"
   ]
  },
  {
   "cell_type": "code",
   "execution_count": null,
   "id": "d2422265",
   "metadata": {},
   "outputs": [],
   "source": [
    "model = BiorbdModel(\"models/Slider1Leg.bioMod\"), BiorbdModel(\"models/Slider1Leg.bioMod\")\n",
    "nq = model[0].nb_q\n",
    "ntau = model[0].nb_tau\n",
    "\n",
    "# This is your turn\n",
    "...\n",
    "\n",
    "# State path constraints\n",
    "x_bounds = BoundsList()\n",
    "x_bounds.add(bounds=model[0].bounds_from_ranges([\"q\", \"qdot\"]))\n",
    "x_bounds.add(bounds=model[1].bounds_from_ranges([\"q\", \"qdot\"]))\n",
    "\n",
    "x_bounds[0][:3, 0] = [0, 3*np.pi / 8, -3*np.pi / 4]\n",
    "x_bounds[0][3:, 0] = 0\n",
    "x_bounds[0].min[0, -1] = 0\n",
    "x_bounds[0].max[0, -1] = 0.25\n",
    "\n",
    "x_bounds[1][0, -1] = 1\n",
    "x_bounds[1][3, -1] = 0\n",
    "\n",
    "# Control path contraints\n",
    "tau_min, tau_max, tau_init = -200, 200, 0\n",
    "u_bounds = BoundsList()\n",
    "u_bounds.add([tau_min] * ntau, [tau_max] * ntau)\n",
    "u_bounds.add([tau_min] * ntau, [tau_max] * ntau)\n",
    "\n",
    "u_bounds[0][0, :] = 0  # vertical Dof actuation forced to 0 - 1st phase\n",
    "u_bounds[1][0, :] = 0  # vertical Dof actuation forced to 0 - 2nd phase\n",
    "\n",
    "# To be continued\n",
    "..."
   ]
  }
 ],
 "metadata": {
  "kernelspec": {
   "display_name": "Python 3 (ipykernel)",
   "language": "python",
   "name": "python3"
  },
  "language_info": {
   "codemirror_mode": {
    "name": "ipython",
    "version": 3
   },
   "file_extension": ".py",
   "mimetype": "text/x-python",
   "name": "python",
   "nbconvert_exporter": "python",
   "pygments_lexer": "ipython3",
   "version": "3.11.0"
  }
 },
 "nbformat": 4,
 "nbformat_minor": 5
}
